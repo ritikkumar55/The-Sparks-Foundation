{
 "cells": [
  {
   "cell_type": "markdown",
   "metadata": {},
   "source": [
    "# Graduate Rotational Internship Program\n",
    "# The Sparks Foundation ( Data Science & Business Analytics Tasks )"
   ]
  },
  {
   "cell_type": "markdown",
   "metadata": {},
   "source": [
    "## Task 3 : Exploratory Data Analysis - Retail"
   ]
  },
  {
   "cell_type": "markdown",
   "metadata": {},
   "source": [
    "**Objective : In this task as a business manager, try to find out the weak areas where you can\n",
    "              work to make more profit.**"
   ]
  },
  {
   "cell_type": "markdown",
   "metadata": {},
   "source": [
    "# Author : Ritik Kumar"
   ]
  },
  {
   "cell_type": "code",
   "execution_count": 8,
   "metadata": {},
   "outputs": [],
   "source": [
    "## Imported Necessary Libraries\n",
    "\n",
    "import pandas as pd\n",
    "import numpy as np\n",
    "import matplotlib.pyplot as plt\n",
    "import seaborn as sns\n",
    "\n",
    "%matplotlib inline\n",
    "\n",
    "import warnings\n",
    "warnings.simplefilter(action='ignore', category=FutureWarning)"
   ]
  },
  {
   "cell_type": "code",
   "execution_count": 2,
   "metadata": {},
   "outputs": [],
   "source": [
    "data = pd.read_csv('SampleSuperstore.csv')"
   ]
  },
  {
   "cell_type": "code",
   "execution_count": 3,
   "metadata": {},
   "outputs": [
    {
     "data": {
      "text/html": [
       "<div>\n",
       "<style scoped>\n",
       "    .dataframe tbody tr th:only-of-type {\n",
       "        vertical-align: middle;\n",
       "    }\n",
       "\n",
       "    .dataframe tbody tr th {\n",
       "        vertical-align: top;\n",
       "    }\n",
       "\n",
       "    .dataframe thead th {\n",
       "        text-align: right;\n",
       "    }\n",
       "</style>\n",
       "<table border=\"1\" class=\"dataframe\">\n",
       "  <thead>\n",
       "    <tr style=\"text-align: right;\">\n",
       "      <th></th>\n",
       "      <th>Ship Mode</th>\n",
       "      <th>Segment</th>\n",
       "      <th>Country</th>\n",
       "      <th>City</th>\n",
       "      <th>State</th>\n",
       "      <th>Postal Code</th>\n",
       "      <th>Region</th>\n",
       "      <th>Category</th>\n",
       "      <th>Sub-Category</th>\n",
       "      <th>Sales</th>\n",
       "      <th>Quantity</th>\n",
       "      <th>Discount</th>\n",
       "      <th>Profit</th>\n",
       "    </tr>\n",
       "  </thead>\n",
       "  <tbody>\n",
       "    <tr>\n",
       "      <th>0</th>\n",
       "      <td>Second Class</td>\n",
       "      <td>Consumer</td>\n",
       "      <td>United States</td>\n",
       "      <td>Henderson</td>\n",
       "      <td>Kentucky</td>\n",
       "      <td>42420</td>\n",
       "      <td>South</td>\n",
       "      <td>Furniture</td>\n",
       "      <td>Bookcases</td>\n",
       "      <td>261.9600</td>\n",
       "      <td>2</td>\n",
       "      <td>0.00</td>\n",
       "      <td>41.9136</td>\n",
       "    </tr>\n",
       "    <tr>\n",
       "      <th>1</th>\n",
       "      <td>Second Class</td>\n",
       "      <td>Consumer</td>\n",
       "      <td>United States</td>\n",
       "      <td>Henderson</td>\n",
       "      <td>Kentucky</td>\n",
       "      <td>42420</td>\n",
       "      <td>South</td>\n",
       "      <td>Furniture</td>\n",
       "      <td>Chairs</td>\n",
       "      <td>731.9400</td>\n",
       "      <td>3</td>\n",
       "      <td>0.00</td>\n",
       "      <td>219.5820</td>\n",
       "    </tr>\n",
       "    <tr>\n",
       "      <th>2</th>\n",
       "      <td>Second Class</td>\n",
       "      <td>Corporate</td>\n",
       "      <td>United States</td>\n",
       "      <td>Los Angeles</td>\n",
       "      <td>California</td>\n",
       "      <td>90036</td>\n",
       "      <td>West</td>\n",
       "      <td>Office Supplies</td>\n",
       "      <td>Labels</td>\n",
       "      <td>14.6200</td>\n",
       "      <td>2</td>\n",
       "      <td>0.00</td>\n",
       "      <td>6.8714</td>\n",
       "    </tr>\n",
       "    <tr>\n",
       "      <th>3</th>\n",
       "      <td>Standard Class</td>\n",
       "      <td>Consumer</td>\n",
       "      <td>United States</td>\n",
       "      <td>Fort Lauderdale</td>\n",
       "      <td>Florida</td>\n",
       "      <td>33311</td>\n",
       "      <td>South</td>\n",
       "      <td>Furniture</td>\n",
       "      <td>Tables</td>\n",
       "      <td>957.5775</td>\n",
       "      <td>5</td>\n",
       "      <td>0.45</td>\n",
       "      <td>-383.0310</td>\n",
       "    </tr>\n",
       "    <tr>\n",
       "      <th>4</th>\n",
       "      <td>Standard Class</td>\n",
       "      <td>Consumer</td>\n",
       "      <td>United States</td>\n",
       "      <td>Fort Lauderdale</td>\n",
       "      <td>Florida</td>\n",
       "      <td>33311</td>\n",
       "      <td>South</td>\n",
       "      <td>Office Supplies</td>\n",
       "      <td>Storage</td>\n",
       "      <td>22.3680</td>\n",
       "      <td>2</td>\n",
       "      <td>0.20</td>\n",
       "      <td>2.5164</td>\n",
       "    </tr>\n",
       "  </tbody>\n",
       "</table>\n",
       "</div>"
      ],
      "text/plain": [
       "        Ship Mode    Segment        Country             City       State  \\\n",
       "0    Second Class   Consumer  United States        Henderson    Kentucky   \n",
       "1    Second Class   Consumer  United States        Henderson    Kentucky   \n",
       "2    Second Class  Corporate  United States      Los Angeles  California   \n",
       "3  Standard Class   Consumer  United States  Fort Lauderdale     Florida   \n",
       "4  Standard Class   Consumer  United States  Fort Lauderdale     Florida   \n",
       "\n",
       "   Postal Code Region         Category Sub-Category     Sales  Quantity  \\\n",
       "0        42420  South        Furniture    Bookcases  261.9600         2   \n",
       "1        42420  South        Furniture       Chairs  731.9400         3   \n",
       "2        90036   West  Office Supplies       Labels   14.6200         2   \n",
       "3        33311  South        Furniture       Tables  957.5775         5   \n",
       "4        33311  South  Office Supplies      Storage   22.3680         2   \n",
       "\n",
       "   Discount    Profit  \n",
       "0      0.00   41.9136  \n",
       "1      0.00  219.5820  \n",
       "2      0.00    6.8714  \n",
       "3      0.45 -383.0310  \n",
       "4      0.20    2.5164  "
      ]
     },
     "execution_count": 3,
     "metadata": {},
     "output_type": "execute_result"
    }
   ],
   "source": [
    "data.head(5)"
   ]
  },
  {
   "cell_type": "code",
   "execution_count": 4,
   "metadata": {},
   "outputs": [
    {
     "name": "stdout",
     "output_type": "stream",
     "text": [
      "<class 'pandas.core.frame.DataFrame'>\n",
      "RangeIndex: 9994 entries, 0 to 9993\n",
      "Data columns (total 13 columns):\n",
      " #   Column        Non-Null Count  Dtype  \n",
      "---  ------        --------------  -----  \n",
      " 0   Ship Mode     9994 non-null   object \n",
      " 1   Segment       9994 non-null   object \n",
      " 2   Country       9994 non-null   object \n",
      " 3   City          9994 non-null   object \n",
      " 4   State         9994 non-null   object \n",
      " 5   Postal Code   9994 non-null   int64  \n",
      " 6   Region        9994 non-null   object \n",
      " 7   Category      9994 non-null   object \n",
      " 8   Sub-Category  9994 non-null   object \n",
      " 9   Sales         9994 non-null   float64\n",
      " 10  Quantity      9994 non-null   int64  \n",
      " 11  Discount      9994 non-null   float64\n",
      " 12  Profit        9994 non-null   float64\n",
      "dtypes: float64(3), int64(2), object(8)\n",
      "memory usage: 1015.1+ KB\n"
     ]
    }
   ],
   "source": [
    "data.info()"
   ]
  },
  {
   "cell_type": "code",
   "execution_count": 5,
   "metadata": {},
   "outputs": [
    {
     "data": {
      "text/html": [
       "<div>\n",
       "<style scoped>\n",
       "    .dataframe tbody tr th:only-of-type {\n",
       "        vertical-align: middle;\n",
       "    }\n",
       "\n",
       "    .dataframe tbody tr th {\n",
       "        vertical-align: top;\n",
       "    }\n",
       "\n",
       "    .dataframe thead th {\n",
       "        text-align: right;\n",
       "    }\n",
       "</style>\n",
       "<table border=\"1\" class=\"dataframe\">\n",
       "  <thead>\n",
       "    <tr style=\"text-align: right;\">\n",
       "      <th></th>\n",
       "      <th>Postal Code</th>\n",
       "      <th>Sales</th>\n",
       "      <th>Quantity</th>\n",
       "      <th>Discount</th>\n",
       "      <th>Profit</th>\n",
       "    </tr>\n",
       "  </thead>\n",
       "  <tbody>\n",
       "    <tr>\n",
       "      <th>count</th>\n",
       "      <td>9994.000000</td>\n",
       "      <td>9994.000000</td>\n",
       "      <td>9994.000000</td>\n",
       "      <td>9994.000000</td>\n",
       "      <td>9994.000000</td>\n",
       "    </tr>\n",
       "    <tr>\n",
       "      <th>mean</th>\n",
       "      <td>55190.379428</td>\n",
       "      <td>229.858001</td>\n",
       "      <td>3.789574</td>\n",
       "      <td>0.156203</td>\n",
       "      <td>28.656896</td>\n",
       "    </tr>\n",
       "    <tr>\n",
       "      <th>std</th>\n",
       "      <td>32063.693350</td>\n",
       "      <td>623.245101</td>\n",
       "      <td>2.225110</td>\n",
       "      <td>0.206452</td>\n",
       "      <td>234.260108</td>\n",
       "    </tr>\n",
       "    <tr>\n",
       "      <th>min</th>\n",
       "      <td>1040.000000</td>\n",
       "      <td>0.444000</td>\n",
       "      <td>1.000000</td>\n",
       "      <td>0.000000</td>\n",
       "      <td>-6599.978000</td>\n",
       "    </tr>\n",
       "    <tr>\n",
       "      <th>25%</th>\n",
       "      <td>23223.000000</td>\n",
       "      <td>17.280000</td>\n",
       "      <td>2.000000</td>\n",
       "      <td>0.000000</td>\n",
       "      <td>1.728750</td>\n",
       "    </tr>\n",
       "    <tr>\n",
       "      <th>50%</th>\n",
       "      <td>56430.500000</td>\n",
       "      <td>54.490000</td>\n",
       "      <td>3.000000</td>\n",
       "      <td>0.200000</td>\n",
       "      <td>8.666500</td>\n",
       "    </tr>\n",
       "    <tr>\n",
       "      <th>75%</th>\n",
       "      <td>90008.000000</td>\n",
       "      <td>209.940000</td>\n",
       "      <td>5.000000</td>\n",
       "      <td>0.200000</td>\n",
       "      <td>29.364000</td>\n",
       "    </tr>\n",
       "    <tr>\n",
       "      <th>max</th>\n",
       "      <td>99301.000000</td>\n",
       "      <td>22638.480000</td>\n",
       "      <td>14.000000</td>\n",
       "      <td>0.800000</td>\n",
       "      <td>8399.976000</td>\n",
       "    </tr>\n",
       "  </tbody>\n",
       "</table>\n",
       "</div>"
      ],
      "text/plain": [
       "        Postal Code         Sales     Quantity     Discount       Profit\n",
       "count   9994.000000   9994.000000  9994.000000  9994.000000  9994.000000\n",
       "mean   55190.379428    229.858001     3.789574     0.156203    28.656896\n",
       "std    32063.693350    623.245101     2.225110     0.206452   234.260108\n",
       "min     1040.000000      0.444000     1.000000     0.000000 -6599.978000\n",
       "25%    23223.000000     17.280000     2.000000     0.000000     1.728750\n",
       "50%    56430.500000     54.490000     3.000000     0.200000     8.666500\n",
       "75%    90008.000000    209.940000     5.000000     0.200000    29.364000\n",
       "max    99301.000000  22638.480000    14.000000     0.800000  8399.976000"
      ]
     },
     "execution_count": 5,
     "metadata": {},
     "output_type": "execute_result"
    }
   ],
   "source": [
    "data.describe()"
   ]
  },
  {
   "cell_type": "code",
   "execution_count": 6,
   "metadata": {},
   "outputs": [
    {
     "data": {
      "text/plain": [
       "Ship Mode       0\n",
       "Segment         0\n",
       "Country         0\n",
       "City            0\n",
       "State           0\n",
       "Postal Code     0\n",
       "Region          0\n",
       "Category        0\n",
       "Sub-Category    0\n",
       "Sales           0\n",
       "Quantity        0\n",
       "Discount        0\n",
       "Profit          0\n",
       "dtype: int64"
      ]
     },
     "execution_count": 6,
     "metadata": {},
     "output_type": "execute_result"
    }
   ],
   "source": [
    "## Missing Values\n",
    "data.isnull().sum()\n"
   ]
  },
  {
   "cell_type": "markdown",
   "metadata": {},
   "source": [
    "## Q1 Frequency of different Category ?"
   ]
  },
  {
   "cell_type": "code",
   "execution_count": 9,
   "metadata": {},
   "outputs": [
    {
     "data": {
      "image/png": "[encoded data removed]",
      "text/plain": [
       "<Figure size 432x288 with 1 Axes>"
      ]
     },
     "metadata": {
      "needs_background": "light"
     },
     "output_type": "display_data"
    }
   ],
   "source": [
    "sns.countplot(data['Category'])\n",
    "plt.title('Count Plot of Category')\n",
    "plt.show()"
   ]
  },
  {
   "cell_type": "markdown",
   "metadata": {},
   "source": [
    "## Q2 Which Category Make the More Profit and Sales?"
   ]
  },
  {
   "cell_type": "code",
   "execution_count": 10,
   "metadata": {},
   "outputs": [
    {
     "data": {
      "image/png": "[encoded data removed]",
      "text/plain": [
       "<Figure size 720x360 with 2 Axes>"
      ]
     },
     "metadata": {
      "needs_background": "light"
     },
     "output_type": "display_data"
    }
   ],
   "source": [
    "plt.figure(figsize=(10,5))\n",
    "plt.subplot(1,2,1)\n",
    "data.groupby('Category')['Profit'].sum().sort_values().plot.bar()\n",
    "plt.title('Profits on Different Category')\n",
    "\n",
    "plt.subplot(1,2,2)\n",
    "data.groupby('Category')['Sales'].sum().sort_values().plot.bar()\n",
    "plt.title('Sales on Different Category')\n",
    "\n",
    "plt.show()"
   ]
  },
  {
   "cell_type": "markdown",
   "metadata": {},
   "source": [
    "## Q3 Which SubCategory of Furniture Makes The More or Least Profit?"
   ]
  },
  {
   "cell_type": "code",
   "execution_count": 11,
   "metadata": {},
   "outputs": [
    {
     "data": {
      "image/png": "[encoded data removed]",
      "text/plain": [
       "<Figure size 720x360 with 2 Axes>"
      ]
     },
     "metadata": {
      "needs_background": "light"
     },
     "output_type": "display_data"
    }
   ],
   "source": [
    "df = data[data['Category'] == 'Furniture' ]\n",
    "\n",
    "plt.figure(figsize=(10,5))\n",
    "plt.subplot(1,2,1)\n",
    "df.groupby('Sub-Category')['Sales'].sum().sort_values().plot.bar()\n",
    "plt.title('Total Sales of Different Furnitures')\n",
    "\n",
    "plt.subplot(1,2,2)\n",
    "df.groupby('Sub-Category')['Profit'].sum().sort_values().plot.bar()\n",
    "plt.title('Profits on Different Furnitures')\n",
    "plt.show()"
   ]
  },
  {
   "cell_type": "markdown",
   "metadata": {},
   "source": [
    "## Q4 : Which Ship Mode  and Region Makes the More and Least Profit ?"
   ]
  },
  {
   "cell_type": "code",
   "execution_count": 12,
   "metadata": {},
   "outputs": [
    {
     "data": {
      "image/png": "[encoded data removed]",
      "text/plain": [
       "<Figure size 720x360 with 2 Axes>"
      ]
     },
     "metadata": {
      "needs_background": "light"
     },
     "output_type": "display_data"
    }
   ],
   "source": [
    "plt.figure(figsize=(10,5))\n",
    "plt.subplot(1,2,1)\n",
    "data.groupby('Ship Mode')['Profit'].sum().sort_values().plot.bar()\n",
    "plt.title('Profits on Different Ship Mode')\n",
    "\n",
    "plt.subplot(1,2,2)\n",
    "data.groupby('Region')['Profit'].sum().sort_values().plot.bar()\n",
    "plt.title('Profits on Different Regions')\n",
    "\n",
    "plt.show()"
   ]
  },
  {
   "cell_type": "markdown",
   "metadata": {},
   "source": [
    "## Q5 : Which Ship Mode  and Region Makes the More and Least Sales ?"
   ]
  },
  {
   "cell_type": "code",
   "execution_count": 13,
   "metadata": {},
   "outputs": [
    {
     "data": {
      "image/png": "[encoded data removed]",
      "text/plain": [
       "<Figure size 720x360 with 2 Axes>"
      ]
     },
     "metadata": {
      "needs_background": "light"
     },
     "output_type": "display_data"
    }
   ],
   "source": [
    "plt.figure(figsize=(10,5))\n",
    "plt.subplot(1,2,1)\n",
    "data.groupby('Ship Mode')['Sales'].sum().sort_values().plot.bar()\n",
    "plt.title('Sales on Different Ship Mode')\n",
    "\n",
    "plt.subplot(1,2,2)\n",
    "data.groupby('Region')['Sales'].sum().sort_values().plot.bar()\n",
    "plt.title('Sales on Different Regions')\n",
    "\n",
    "plt.show()"
   ]
  },
  {
   "cell_type": "markdown",
   "metadata": {},
   "source": [
    "## Q6 Which Category Make More Sales and Profit on West Region?"
   ]
  },
  {
   "cell_type": "code",
   "execution_count": 14,
   "metadata": {},
   "outputs": [
    {
     "data": {
      "image/png": "[encoded data removed]",
      "text/plain": [
       "<Figure size 720x360 with 2 Axes>"
      ]
     },
     "metadata": {
      "needs_background": "light"
     },
     "output_type": "display_data"
    }
   ],
   "source": [
    "df = data[data['Region'] == 'West']\n",
    "\n",
    "plt.figure(figsize=(10,5))\n",
    "plt.subplot(1,2,1)\n",
    "df.groupby('Category')['Sales'].sum().sort_values().plot.bar()\n",
    "plt.title('Total Sales of Different Categories')\n",
    "\n",
    "plt.subplot(1,2,2)\n",
    "df.groupby('Category')['Profit'].sum().sort_values().plot.bar()\n",
    "plt.title('Profits on Different Categories')\n",
    "\n",
    "plt.show()"
   ]
  },
  {
   "cell_type": "markdown",
   "metadata": {},
   "source": [
    "## Q7 What is the Profit of Different Region on Different Ship Modes."
   ]
  },
  {
   "cell_type": "code",
   "execution_count": 16,
   "metadata": {},
   "outputs": [
    {
     "data": {
      "image/png": "[encoded data removed]",
      "text/plain": [
       "<Figure size 432x288 with 1 Axes>"
      ]
     },
     "metadata": {
      "needs_background": "light"
     },
     "output_type": "display_data"
    }
   ],
   "source": [
    "table = pd.pivot_table(data,index=['Ship Mode','Region'],values=['Profit'], aggfunc=np.mean).plot.bar()\n",
    "plt.title('Profits of Different Regions on Different Ship Mode')\n",
    "plt.show()"
   ]
  },
  {
   "cell_type": "markdown",
   "metadata": {},
   "source": [
    "## Q8 Profits of Different State?"
   ]
  },
  {
   "cell_type": "code",
   "execution_count": 17,
   "metadata": {},
   "outputs": [
    {
     "data": {
      "image/png": "[encoded data removed]",
      "text/plain": [
       "<Figure size 1080x360 with 1 Axes>"
      ]
     },
     "metadata": {
      "needs_background": "light"
     },
     "output_type": "display_data"
    }
   ],
   "source": [
    "plt.figure(figsize=(15,5))\n",
    "data.groupby('State')['Profit'].sum().sort_values().plot.bar()\n",
    "plt.title('Total Profits On Different States')\n",
    "plt.show()"
   ]
  },
  {
   "cell_type": "markdown",
   "metadata": {},
   "source": [
    "## Q9 Which Segment has more Sales and Make More Profits?"
   ]
  },
  {
   "cell_type": "code",
   "execution_count": 18,
   "metadata": {},
   "outputs": [
    {
     "data": {
      "image/png": "[encoded data removed]",
      "text/plain": [
       "<Figure size 470.875x360 with 1 Axes>"
      ]
     },
     "metadata": {
      "needs_background": "light"
     },
     "output_type": "display_data"
    }
   ],
   "source": [
    "sns.catplot(x=\"Segment\", y=\"Profit\", kind=\"bar\",hue='Category', data=data)\n",
    "plt.title('Profits on Segment with different Categories ')\n",
    "plt.show()"
   ]
  },
  {
   "cell_type": "markdown",
   "metadata": {},
   "source": [
    "## Q10 Pivot Table To Display Average Profit of All The Categories ?"
   ]
  },
  {
   "cell_type": "code",
   "execution_count": 19,
   "metadata": {},
   "outputs": [
    {
     "data": {
      "text/html": [
       "<div>\n",
       "<style scoped>\n",
       "    .dataframe tbody tr th:only-of-type {\n",
       "        vertical-align: middle;\n",
       "    }\n",
       "\n",
       "    .dataframe tbody tr th {\n",
       "        vertical-align: top;\n",
       "    }\n",
       "\n",
       "    .dataframe thead tr th {\n",
       "        text-align: left;\n",
       "    }\n",
       "\n",
       "    .dataframe thead tr:last-of-type th {\n",
       "        text-align: right;\n",
       "    }\n",
       "</style>\n",
       "<table border=\"1\" class=\"dataframe\">\n",
       "  <thead>\n",
       "    <tr>\n",
       "      <th></th>\n",
       "      <th></th>\n",
       "      <th></th>\n",
       "      <th colspan=\"3\" halign=\"left\">Profit</th>\n",
       "    </tr>\n",
       "    <tr>\n",
       "      <th></th>\n",
       "      <th></th>\n",
       "      <th>Category</th>\n",
       "      <th>Furniture</th>\n",
       "      <th>Office Supplies</th>\n",
       "      <th>Technology</th>\n",
       "    </tr>\n",
       "    <tr>\n",
       "      <th>Ship Mode</th>\n",
       "      <th>Region</th>\n",
       "      <th>Segment</th>\n",
       "      <th></th>\n",
       "      <th></th>\n",
       "      <th></th>\n",
       "    </tr>\n",
       "  </thead>\n",
       "  <tbody>\n",
       "    <tr>\n",
       "      <th rowspan=\"12\" valign=\"top\">First Class</th>\n",
       "      <th rowspan=\"3\" valign=\"top\">Central</th>\n",
       "      <th>Consumer</th>\n",
       "      <td>16.959019</td>\n",
       "      <td>-10.583406</td>\n",
       "      <td>45.284538</td>\n",
       "    </tr>\n",
       "    <tr>\n",
       "      <th>Corporate</th>\n",
       "      <td>-26.956532</td>\n",
       "      <td>-9.367002</td>\n",
       "      <td>68.160852</td>\n",
       "    </tr>\n",
       "    <tr>\n",
       "      <th>Home Office</th>\n",
       "      <td>-53.184654</td>\n",
       "      <td>76.428216</td>\n",
       "      <td>63.043218</td>\n",
       "    </tr>\n",
       "    <tr>\n",
       "      <th rowspan=\"3\" valign=\"top\">East</th>\n",
       "      <th>Consumer</th>\n",
       "      <td>3.401687</td>\n",
       "      <td>20.879461</td>\n",
       "      <td>13.428158</td>\n",
       "    </tr>\n",
       "    <tr>\n",
       "      <th>Corporate</th>\n",
       "      <td>23.603781</td>\n",
       "      <td>21.049878</td>\n",
       "      <td>28.028811</td>\n",
       "    </tr>\n",
       "    <tr>\n",
       "      <th>Home Office</th>\n",
       "      <td>54.384057</td>\n",
       "      <td>31.004707</td>\n",
       "      <td>287.442262</td>\n",
       "    </tr>\n",
       "    <tr>\n",
       "      <th rowspan=\"3\" valign=\"top\">South</th>\n",
       "      <th>Consumer</th>\n",
       "      <td>54.998909</td>\n",
       "      <td>27.321551</td>\n",
       "      <td>35.475923</td>\n",
       "    </tr>\n",
       "    <tr>\n",
       "      <th>Corporate</th>\n",
       "      <td>9.908690</td>\n",
       "      <td>20.837054</td>\n",
       "      <td>129.876738</td>\n",
       "    </tr>\n",
       "    <tr>\n",
       "      <th>Home Office</th>\n",
       "      <td>-32.270633</td>\n",
       "      <td>-13.073137</td>\n",
       "      <td>38.454775</td>\n",
       "    </tr>\n",
       "    <tr>\n",
       "      <th rowspan=\"3\" valign=\"top\">West</th>\n",
       "      <th>Consumer</th>\n",
       "      <td>1.520396</td>\n",
       "      <td>23.427744</td>\n",
       "      <td>190.625289</td>\n",
       "    </tr>\n",
       "    <tr>\n",
       "      <th>Corporate</th>\n",
       "      <td>16.159695</td>\n",
       "      <td>42.307376</td>\n",
       "      <td>92.037426</td>\n",
       "    </tr>\n",
       "    <tr>\n",
       "      <th>Home Office</th>\n",
       "      <td>12.119204</td>\n",
       "      <td>8.132795</td>\n",
       "      <td>70.115300</td>\n",
       "    </tr>\n",
       "    <tr>\n",
       "      <th rowspan=\"12\" valign=\"top\">Same Day</th>\n",
       "      <th rowspan=\"3\" valign=\"top\">Central</th>\n",
       "      <th>Consumer</th>\n",
       "      <td>-9.874674</td>\n",
       "      <td>9.553643</td>\n",
       "      <td>44.320986</td>\n",
       "    </tr>\n",
       "    <tr>\n",
       "      <th>Corporate</th>\n",
       "      <td>2.735400</td>\n",
       "      <td>-5.811350</td>\n",
       "      <td>NaN</td>\n",
       "    </tr>\n",
       "    <tr>\n",
       "      <th>Home Office</th>\n",
       "      <td>4.312100</td>\n",
       "      <td>2.294794</td>\n",
       "      <td>178.017875</td>\n",
       "    </tr>\n",
       "    <tr>\n",
       "      <th rowspan=\"3\" valign=\"top\">East</th>\n",
       "      <th>Consumer</th>\n",
       "      <td>-26.467331</td>\n",
       "      <td>27.231431</td>\n",
       "      <td>176.512276</td>\n",
       "    </tr>\n",
       "    <tr>\n",
       "      <th>Corporate</th>\n",
       "      <td>59.321125</td>\n",
       "      <td>13.378709</td>\n",
       "      <td>228.337009</td>\n",
       "    </tr>\n",
       "    <tr>\n",
       "      <th>Home Office</th>\n",
       "      <td>-27.131029</td>\n",
       "      <td>21.723608</td>\n",
       "      <td>107.385467</td>\n",
       "    </tr>\n",
       "    <tr>\n",
       "      <th rowspan=\"3\" valign=\"top\">South</th>\n",
       "      <th>Consumer</th>\n",
       "      <td>29.619425</td>\n",
       "      <td>8.125369</td>\n",
       "      <td>35.174908</td>\n",
       "    </tr>\n",
       "    <tr>\n",
       "      <th>Corporate</th>\n",
       "      <td>-66.351067</td>\n",
       "      <td>28.384340</td>\n",
       "      <td>-1857.001500</td>\n",
       "    </tr>\n",
       "    <tr>\n",
       "      <th>Home Office</th>\n",
       "      <td>29.977400</td>\n",
       "      <td>51.971477</td>\n",
       "      <td>59.150950</td>\n",
       "    </tr>\n",
       "    <tr>\n",
       "      <th rowspan=\"3\" valign=\"top\">West</th>\n",
       "      <th>Consumer</th>\n",
       "      <td>23.798032</td>\n",
       "      <td>22.303703</td>\n",
       "      <td>147.956213</td>\n",
       "    </tr>\n",
       "    <tr>\n",
       "      <th>Corporate</th>\n",
       "      <td>-1.086333</td>\n",
       "      <td>32.553544</td>\n",
       "      <td>298.915150</td>\n",
       "    </tr>\n",
       "    <tr>\n",
       "      <th>Home Office</th>\n",
       "      <td>30.753292</td>\n",
       "      <td>24.247791</td>\n",
       "      <td>95.337525</td>\n",
       "    </tr>\n",
       "    <tr>\n",
       "      <th rowspan=\"12\" valign=\"top\">Second Class</th>\n",
       "      <th rowspan=\"3\" valign=\"top\">Central</th>\n",
       "      <th>Consumer</th>\n",
       "      <td>-50.708758</td>\n",
       "      <td>11.616810</td>\n",
       "      <td>44.804967</td>\n",
       "    </tr>\n",
       "    <tr>\n",
       "      <th>Corporate</th>\n",
       "      <td>40.639052</td>\n",
       "      <td>25.734444</td>\n",
       "      <td>10.709194</td>\n",
       "    </tr>\n",
       "    <tr>\n",
       "      <th>Home Office</th>\n",
       "      <td>0.948162</td>\n",
       "      <td>43.471880</td>\n",
       "      <td>97.138380</td>\n",
       "    </tr>\n",
       "    <tr>\n",
       "      <th rowspan=\"3\" valign=\"top\">East</th>\n",
       "      <th>Consumer</th>\n",
       "      <td>14.398803</td>\n",
       "      <td>18.226238</td>\n",
       "      <td>42.403060</td>\n",
       "    </tr>\n",
       "    <tr>\n",
       "      <th>Corporate</th>\n",
       "      <td>-15.116274</td>\n",
       "      <td>21.581988</td>\n",
       "      <td>47.766580</td>\n",
       "    </tr>\n",
       "    <tr>\n",
       "      <th>Home Office</th>\n",
       "      <td>-12.879663</td>\n",
       "      <td>26.500777</td>\n",
       "      <td>60.560137</td>\n",
       "    </tr>\n",
       "    <tr>\n",
       "      <th rowspan=\"3\" valign=\"top\">South</th>\n",
       "      <th>Consumer</th>\n",
       "      <td>17.989137</td>\n",
       "      <td>0.773506</td>\n",
       "      <td>195.075665</td>\n",
       "    </tr>\n",
       "    <tr>\n",
       "      <th>Corporate</th>\n",
       "      <td>26.382976</td>\n",
       "      <td>31.604123</td>\n",
       "      <td>206.201216</td>\n",
       "    </tr>\n",
       "    <tr>\n",
       "      <th>Home Office</th>\n",
       "      <td>52.839071</td>\n",
       "      <td>37.563095</td>\n",
       "      <td>63.248227</td>\n",
       "    </tr>\n",
       "    <tr>\n",
       "      <th rowspan=\"3\" valign=\"top\">West</th>\n",
       "      <th>Consumer</th>\n",
       "      <td>20.459751</td>\n",
       "      <td>26.116337</td>\n",
       "      <td>89.590053</td>\n",
       "    </tr>\n",
       "    <tr>\n",
       "      <th>Corporate</th>\n",
       "      <td>21.750738</td>\n",
       "      <td>27.298871</td>\n",
       "      <td>37.428817</td>\n",
       "    </tr>\n",
       "    <tr>\n",
       "      <th>Home Office</th>\n",
       "      <td>74.816052</td>\n",
       "      <td>56.356050</td>\n",
       "      <td>42.761385</td>\n",
       "    </tr>\n",
       "    <tr>\n",
       "      <th rowspan=\"12\" valign=\"top\">Standard Class</th>\n",
       "      <th rowspan=\"3\" valign=\"top\">Central</th>\n",
       "      <th>Consumer</th>\n",
       "      <td>-11.830449</td>\n",
       "      <td>3.103568</td>\n",
       "      <td>46.291815</td>\n",
       "    </tr>\n",
       "    <tr>\n",
       "      <th>Corporate</th>\n",
       "      <td>20.178026</td>\n",
       "      <td>-5.586910</td>\n",
       "      <td>229.784343</td>\n",
       "    </tr>\n",
       "    <tr>\n",
       "      <th>Home Office</th>\n",
       "      <td>-10.673890</td>\n",
       "      <td>8.540226</td>\n",
       "      <td>83.848214</td>\n",
       "    </tr>\n",
       "    <tr>\n",
       "      <th rowspan=\"3\" valign=\"top\">East</th>\n",
       "      <th>Consumer</th>\n",
       "      <td>8.004691</td>\n",
       "      <td>22.453700</td>\n",
       "      <td>91.204166</td>\n",
       "    </tr>\n",
       "    <tr>\n",
       "      <th>Corporate</th>\n",
       "      <td>-2.953751</td>\n",
       "      <td>29.145287</td>\n",
       "      <td>53.193008</td>\n",
       "    </tr>\n",
       "    <tr>\n",
       "      <th>Home Office</th>\n",
       "      <td>5.653032</td>\n",
       "      <td>26.924758</td>\n",
       "      <td>178.994162</td>\n",
       "    </tr>\n",
       "    <tr>\n",
       "      <th rowspan=\"3\" valign=\"top\">South</th>\n",
       "      <th>Consumer</th>\n",
       "      <td>22.087447</td>\n",
       "      <td>23.465418</td>\n",
       "      <td>73.464371</td>\n",
       "    </tr>\n",
       "    <tr>\n",
       "      <th>Corporate</th>\n",
       "      <td>8.268838</td>\n",
       "      <td>23.628549</td>\n",
       "      <td>79.972612</td>\n",
       "    </tr>\n",
       "    <tr>\n",
       "      <th>Home Office</th>\n",
       "      <td>32.213655</td>\n",
       "      <td>13.153718</td>\n",
       "      <td>-17.955350</td>\n",
       "    </tr>\n",
       "    <tr>\n",
       "      <th rowspan=\"3\" valign=\"top\">West</th>\n",
       "      <th>Consumer</th>\n",
       "      <td>9.834175</td>\n",
       "      <td>26.073314</td>\n",
       "      <td>63.537112</td>\n",
       "    </tr>\n",
       "    <tr>\n",
       "      <th>Corporate</th>\n",
       "      <td>20.859958</td>\n",
       "      <td>32.630470</td>\n",
       "      <td>54.109840</td>\n",
       "    </tr>\n",
       "    <tr>\n",
       "      <th>Home Office</th>\n",
       "      <td>13.079156</td>\n",
       "      <td>21.957554</td>\n",
       "      <td>19.164949</td>\n",
       "    </tr>\n",
       "  </tbody>\n",
       "</table>\n",
       "</div>"
      ],
      "text/plain": [
       "                                       Profit                             \n",
       "Category                            Furniture Office Supplies   Technology\n",
       "Ship Mode      Region  Segment                                            \n",
       "First Class    Central Consumer     16.959019      -10.583406    45.284538\n",
       "                       Corporate   -26.956532       -9.367002    68.160852\n",
       "                       Home Office -53.184654       76.428216    63.043218\n",
       "               East    Consumer      3.401687       20.879461    13.428158\n",
       "                       Corporate    23.603781       21.049878    28.028811\n",
       "                       Home Office  54.384057       31.004707   287.442262\n",
       "               South   Consumer     54.998909       27.321551    35.475923\n",
       "                       Corporate     9.908690       20.837054   129.876738\n",
       "                       Home Office -32.270633      -13.073137    38.454775\n",
       "               West    Consumer      1.520396       23.427744   190.625289\n",
       "                       Corporate    16.159695       42.307376    92.037426\n",
       "                       Home Office  12.119204        8.132795    70.115300\n",
       "Same Day       Central Consumer     -9.874674        9.553643    44.320986\n",
       "                       Corporate     2.735400       -5.811350          NaN\n",
       "                       Home Office   4.312100        2.294794   178.017875\n",
       "               East    Consumer    -26.467331       27.231431   176.512276\n",
       "                       Corporate    59.321125       13.378709   228.337009\n",
       "                       Home Office -27.131029       21.723608   107.385467\n",
       "               South   Consumer     29.619425        8.125369    35.174908\n",
       "                       Corporate   -66.351067       28.384340 -1857.001500\n",
       "                       Home Office  29.977400       51.971477    59.150950\n",
       "               West    Consumer     23.798032       22.303703   147.956213\n",
       "                       Corporate    -1.086333       32.553544   298.915150\n",
       "                       Home Office  30.753292       24.247791    95.337525\n",
       "Second Class   Central Consumer    -50.708758       11.616810    44.804967\n",
       "                       Corporate    40.639052       25.734444    10.709194\n",
       "                       Home Office   0.948162       43.471880    97.138380\n",
       "               East    Consumer     14.398803       18.226238    42.403060\n",
       "                       Corporate   -15.116274       21.581988    47.766580\n",
       "                       Home Office -12.879663       26.500777    60.560137\n",
       "               South   Consumer     17.989137        0.773506   195.075665\n",
       "                       Corporate    26.382976       31.604123   206.201216\n",
       "                       Home Office  52.839071       37.563095    63.248227\n",
       "               West    Consumer     20.459751       26.116337    89.590053\n",
       "                       Corporate    21.750738       27.298871    37.428817\n",
       "                       Home Office  74.816052       56.356050    42.761385\n",
       "Standard Class Central Consumer    -11.830449        3.103568    46.291815\n",
       "                       Corporate    20.178026       -5.586910   229.784343\n",
       "                       Home Office -10.673890        8.540226    83.848214\n",
       "               East    Consumer      8.004691       22.453700    91.204166\n",
       "                       Corporate    -2.953751       29.145287    53.193008\n",
       "                       Home Office   5.653032       26.924758   178.994162\n",
       "               South   Consumer     22.087447       23.465418    73.464371\n",
       "                       Corporate     8.268838       23.628549    79.972612\n",
       "                       Home Office  32.213655       13.153718   -17.955350\n",
       "               West    Consumer      9.834175       26.073314    63.537112\n",
       "                       Corporate    20.859958       32.630470    54.109840\n",
       "                       Home Office  13.079156       21.957554    19.164949"
      ]
     },
     "execution_count": 19,
     "metadata": {},
     "output_type": "execute_result"
    }
   ],
   "source": [
    "table = pd.pivot_table(data,index=['Ship Mode','Region','Segment'],columns=['Category'],values=['Profit'],aggfunc=np.mean)\n",
    "table"
   ]
  },
  {
   "cell_type": "markdown",
   "metadata": {},
   "source": [
    "## Conclusion : "
   ]
  },
  {
   "cell_type": "code",
   "execution_count": null,
   "metadata": {},
   "outputs": [],
   "source": [
    "1. The Quantity of Office Supplis is more.\n",
    "2  Technology selling is more than others and make more profits.\n",
    "3. Furniture selling is also good but profit is so low.\n",
    "4. selling of Tables is high , but it is in loss.\n",
    "5. West Regions makes the more profit whereas central Region makes the least profit.\n",
    "6. Sales or Profits on Ship Mode is directly Proportional.\n",
    "7. On the West Region Office Supplies sales is least but it makes hight profit than other categories.\n",
    "8. Same Day (Ship Mode) on East Region Makes more profit whereas, Same Day (Ship Mode) on South Region is in loss.\n",
    "9. New York and California are the two State with very high profits whereas, Texas is in loss.\n",
    "10. Technology product makes profit on all the Different Segments."
   ]
  },
  {
   "cell_type": "markdown",
   "metadata": {},
   "source": [
    "## Thank You"
   ]
  },
  {
   "cell_type": "code",
   "execution_count": null,
   "metadata": {},
   "outputs": [],
   "source": []
  }
 ],
 "metadata": {
  "kernelspec": {
   "display_name": "Python 3.7.3 64-bit",
   "language": "python",
   "name": "python37364bit4c7b60b24e384a35a54eb90030c12cd8"
  },
  "language_info": {
   "codemirror_mode": {
    "name": "ipython",
    "version": 3
   },
   "file_extension": ".py",
   "mimetype": "text/x-python",
   "name": "python",
   "nbconvert_exporter": "python",
   "pygments_lexer": "ipython3",
   "version": "3.7.3"
  }
 },
 "nbformat": 4,
 "nbformat_minor": 4
}
